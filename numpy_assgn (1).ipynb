{
 "cells": [
  {
   "cell_type": "raw",
   "id": "cd43fc13",
   "metadata": {},
   "source": [
    "Question: Write a function so that the columns of the output matrix are powers of the input\n",
    "vector.\n",
    "The order of the powers is determined by the increasing boolean argument. Specifically, when\n",
    "increasing is False, the i-th output column is the input vector raised element-wise to the power\n",
    "of N - i - 1.\n",
    "\n",
    "HINT: Such a matrix with a geometric progression in each row is named for Alexandre-\n",
    "Theophile Vandermonde."
   ]
  },
  {
   "cell_type": "code",
   "execution_count": 8,
   "id": "440a4288",
   "metadata": {},
   "outputs": [
    {
     "data": {
      "text/plain": [
       "array([[    1,     2,     4,     8,    16],\n",
       "       [    1,     4,    16,    64,   256],\n",
       "       [    1,     6,    36,   216,  1296],\n",
       "       [    1,     8,    64,   512,  4096],\n",
       "       [    1,    10,   100,  1000, 10000]])"
      ]
     },
     "execution_count": 8,
     "metadata": {},
     "output_type": "execute_result"
    }
   ],
   "source": [
    "#Solution:\n",
    "#numpy.vander() function is used to generate a Vandermonde matrix.\n",
    "import numpy as np\n",
    "\n",
    "arr1 = np.array([2,4,6,8,10])\n",
    "Vandermonde = np.vander(arr1,increasing = True)\n",
    "Vandermonde"
   ]
  },
  {
   "cell_type": "raw",
   "id": "4d14cb27",
   "metadata": {},
   "source": [
    "Question: Write a function to find moving average in an array over a window:\n",
    "Test it over [3, 5, 7, 2, 8, 10, 11, 65, 72, 81, 99, 100, 150] and window of 3."
   ]
  },
  {
   "cell_type": "code",
   "execution_count": 5,
   "id": "c941749d",
   "metadata": {},
   "outputs": [
    {
     "name": "stdout",
     "output_type": "stream",
     "text": [
      "[5.0]\n",
      "[5.0, 4.67]\n",
      "[5.0, 4.67, 5.67]\n",
      "[5.0, 4.67, 5.67, 6.67]\n",
      "[5.0, 4.67, 5.67, 6.67, 9.67]\n",
      "[5.0, 4.67, 5.67, 6.67, 9.67, 28.67]\n",
      "[5.0, 4.67, 5.67, 6.67, 9.67, 28.67, 49.33]\n",
      "[5.0, 4.67, 5.67, 6.67, 9.67, 28.67, 49.33, 72.67]\n",
      "[5.0, 4.67, 5.67, 6.67, 9.67, 28.67, 49.33, 72.67, 84.0]\n",
      "[5.0, 4.67, 5.67, 6.67, 9.67, 28.67, 49.33, 72.67, 84.0, 93.33]\n",
      "[5.0, 4.67, 5.67, 6.67, 9.67, 28.67, 49.33, 72.67, 84.0, 93.33, 116.33]\n"
     ]
    }
   ],
   "source": [
    "#Solution:\n",
    "#Program to calculate moving averages\n",
    "#given data = [3, 5, 7, 2, 8, 10, 11, 65, 72, 81, 99, 100, 150] , window size = 3\n",
    "import numpy as np #importing numpy\n",
    "arr = [3, 5, 7, 2, 8, 10, 11, 65, 72, 81, 99, 100, 150]\n",
    "window_size = 3\n",
    "\n",
    "i = 0\n",
    "# Initialize an empty list to store moving averages\n",
    "moving_avg = []\n",
    "\n",
    "# Looping through the array to consider every window of size 3\n",
    "while  i<len(arr) - window_size + 1:\n",
    "   \n",
    "  # Calculate the average of current window\n",
    "\n",
    "    \n",
    "    window_avg =  round(np.sum(arr[\n",
    "      i:i+window_size]) / window_size, 2)\n",
    "# Store the average of current\n",
    "# window in moving average list\n",
    "    moving_avg.append(window_avg)\n",
    "    \n",
    "# Shift window to right by one position\n",
    "    i += 1\n",
    "  \n",
    "    print(moving_avg)\n"
   ]
  },
  {
   "cell_type": "code",
   "execution_count": null,
   "id": "7e33101d",
   "metadata": {},
   "outputs": [],
   "source": []
  }
 ],
 "metadata": {
  "kernelspec": {
   "display_name": "Python 3 (ipykernel)",
   "language": "python",
   "name": "python3"
  },
  "language_info": {
   "codemirror_mode": {
    "name": "ipython",
    "version": 3
   },
   "file_extension": ".py",
   "mimetype": "text/x-python",
   "name": "python",
   "nbconvert_exporter": "python",
   "pygments_lexer": "ipython3",
   "version": "3.8.8"
  }
 },
 "nbformat": 4,
 "nbformat_minor": 5
}
