{
 "cells": [
  {
   "cell_type": "raw",
   "metadata": {},
   "source": [
    "question 1: Create the below pattern using nested for loop in Python\n",
    "\n",
    "*\n",
    "**\n",
    "***\n",
    "****\n",
    "*****\n",
    "****\n",
    "***\n",
    "**\n",
    "*\n"
   ]
  },
  {
   "cell_type": "code",
   "execution_count": 6,
   "metadata": {},
   "outputs": [
    {
     "name": "stdout",
     "output_type": "stream",
     "text": [
      "*\n",
      "**\n",
      "***\n",
      "****\n",
      "*****\n",
      "*****\n",
      "****\n",
      "***\n",
      "**\n",
      "*\n",
      "\n"
     ]
    }
   ],
   "source": [
    "rows = 5\n",
    "for m in range(0,rows):\n",
    "    for n in range(0,m+1):\n",
    "        print(\"*\",end =\"\")\n",
    "    print(\"\")\n",
    "rows = 5\n",
    "for m in range(rows+1,0,-1):\n",
    "    for n in range(0,m-1):\n",
    "        print(\"*\",end = \"\")\n",
    "    print(\"\")    "
   ]
  },
  {
   "cell_type": "raw",
   "metadata": {},
   "source": [
    "question 2 :Write a Python program to reverse a word after accepting the input from the user"
   ]
  },
  {
   "cell_type": "code",
   "execution_count": 7,
   "metadata": {},
   "outputs": [
    {
     "name": "stdout",
     "output_type": "stream",
     "text": [
      "Enter the string aditi\n",
      "itida\n"
     ]
    }
   ],
   "source": [
    "a = input(\"Enter the string \")\n",
    "print(a[::-1])"
   ]
  },
  {
   "cell_type": "code",
   "execution_count": null,
   "metadata": {},
   "outputs": [],
   "source": []
  }
 ],
 "metadata": {
  "kernelspec": {
   "display_name": "Python 3",
   "language": "python",
   "name": "python3"
  },
  "language_info": {
   "codemirror_mode": {
    "name": "ipython",
    "version": 3
   },
   "file_extension": ".py",
   "mimetype": "text/x-python",
   "name": "python",
   "nbconvert_exporter": "python",
   "pygments_lexer": "ipython3",
   "version": "3.8.5"
  }
 },
 "nbformat": 4,
 "nbformat_minor": 4
}
